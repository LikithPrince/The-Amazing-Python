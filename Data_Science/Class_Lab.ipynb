{
 "cells": [
  {
   "cell_type": "code",
   "execution_count": null,
   "id": "35ae97a3",
   "metadata": {},
   "outputs": [],
   "source": [
    "# Boolean\n",
    "\n",
    "True, False \n",
    "1      0 \n",
    "\n",
    "\n",
    "# if you check anything/ perform any comparision operations we will get a Bollean result"
   ]
  },
  {
   "cell_type": "code",
   "execution_count": 1,
   "id": "8c32853a",
   "metadata": {},
   "outputs": [
    {
     "data": {
      "text/plain": [
       "False"
      ]
     },
     "execution_count": 1,
     "metadata": {},
     "output_type": "execute_result"
    }
   ],
   "source": [
    "a = 10\n",
    "b = 12\n",
    "\n",
    "a>b"
   ]
  },
  {
   "cell_type": "code",
   "execution_count": 2,
   "id": "c5abd81e",
   "metadata": {},
   "outputs": [
    {
     "name": "stdout",
     "output_type": "stream",
     "text": [
      "True\n"
     ]
    }
   ],
   "source": [
    "print(True)"
   ]
  },
  {
   "cell_type": "markdown",
   "id": "8f903e35",
   "metadata": {},
   "source": [
    "<font color = \"red\"> Hi this is fornt<font/>"
   ]
  },
  {
   "cell_type": "code",
   "execution_count": null,
   "id": "9f6fff3d",
   "metadata": {},
   "outputs": [],
   "source": [
    "- to pass values inside to the string with help of {}.\n",
    "- if number of {} brackets inside the string are not eqaul to the number values inside the format function "
   ]
  },
  {
   "cell_type": "code",
   "execution_count": 5,
   "id": "9e905a89",
   "metadata": {},
   "outputs": [
    {
     "name": "stdout",
     "output_type": "stream",
     "text": [
      "Hi this is 1, 2, 3, 4,5,6\n"
     ]
    }
   ],
   "source": [
    "print(\"Hi this is {}, {}, {}, {},: {},{}\".format(1,2,3,4,5,6))"
   ]
  },
  {
   "cell_type": "code",
   "execution_count": 6,
   "id": "dd4c6903",
   "metadata": {},
   "outputs": [],
   "source": [
    "a, b, c,d,e,f,g = 1,1.2,True, 2+4j,\"Python\",[1,2,3,45],(2,3,4,5)"
   ]
  },
  {
   "cell_type": "code",
   "execution_count": null,
   "id": "3394dd31",
   "metadata": {},
   "outputs": [],
   "source": [
    "# String \n",
    "# \"\" or ''"
   ]
  },
  {
   "cell_type": "code",
   "execution_count": 8,
   "id": "ab306c69",
   "metadata": {},
   "outputs": [],
   "source": [
    "a = \"python for data sceince\""
   ]
  },
  {
   "cell_type": "code",
   "execution_count": 9,
   "id": "d1b5916b",
   "metadata": {},
   "outputs": [
    {
     "data": {
      "text/plain": [
       "23"
      ]
     },
     "execution_count": 9,
     "metadata": {},
     "output_type": "execute_result"
    }
   ],
   "source": [
    "len(a)"
   ]
  },
  {
   "cell_type": "code",
   "execution_count": 12,
   "id": "e67ec89d",
   "metadata": {},
   "outputs": [
    {
     "ename": "TypeError",
     "evalue": "'str' object does not support item assignment",
     "output_type": "error",
     "traceback": [
      "\u001b[1;31m---------------------------------------------------------------------------\u001b[0m",
      "\u001b[1;31mTypeError\u001b[0m                                 Traceback (most recent call last)",
      "\u001b[1;32m~\\AppData\\Local\\Temp/ipykernel_27196/4243061256.py\u001b[0m in \u001b[0;36m<module>\u001b[1;34m\u001b[0m\n\u001b[1;32m----> 1\u001b[1;33m \u001b[0ma\u001b[0m\u001b[1;33m[\u001b[0m\u001b[1;36m1\u001b[0m\u001b[1;33m]\u001b[0m\u001b[1;33m=\u001b[0m\u001b[1;34m'r'\u001b[0m\u001b[1;33m\u001b[0m\u001b[1;33m\u001b[0m\u001b[0m\n\u001b[0m",
      "\u001b[1;31mTypeError\u001b[0m: 'str' object does not support item assignment"
     ]
    }
   ],
   "source": [
    "a[1]='r'"
   ]
  },
  {
   "cell_type": "code",
   "execution_count": 13,
   "id": "53be2ec6",
   "metadata": {},
   "outputs": [],
   "source": [
    "a = \"hi Python\"\n",
    "b = \"Hi Data sceince\""
   ]
  },
  {
   "cell_type": "code",
   "execution_count": 14,
   "id": "3343fd0f",
   "metadata": {},
   "outputs": [
    {
     "data": {
      "text/plain": [
       "'hi PythonHi Data sceince'"
      ]
     },
     "execution_count": 14,
     "metadata": {},
     "output_type": "execute_result"
    }
   ],
   "source": [
    "# concatination\n",
    "a + b "
   ]
  },
  {
   "cell_type": "code",
   "execution_count": 16,
   "id": "f744a3d6",
   "metadata": {},
   "outputs": [
    {
     "data": {
      "text/plain": [
       "'hi Pythonhi Pythonhi Pythonhi Pythonhi Pythonhi Pythonhi Pythonhi Pythonhi Pythonhi Python'"
      ]
     },
     "execution_count": 16,
     "metadata": {},
     "output_type": "execute_result"
    }
   ],
   "source": [
    "# repetition\n",
    "a*10"
   ]
  },
  {
   "cell_type": "code",
   "execution_count": 17,
   "id": "c75461b9",
   "metadata": {},
   "outputs": [],
   "source": [
    "del a"
   ]
  },
  {
   "cell_type": "code",
   "execution_count": 19,
   "id": "39c59526",
   "metadata": {},
   "outputs": [],
   "source": [
    "a = \"z\""
   ]
  },
  {
   "cell_type": "code",
   "execution_count": 20,
   "id": "7f9f4d32",
   "metadata": {},
   "outputs": [
    {
     "data": {
      "text/plain": [
       "1"
      ]
     },
     "execution_count": 20,
     "metadata": {},
     "output_type": "execute_result"
    }
   ],
   "source": [
    "len(a)"
   ]
  },
  {
   "cell_type": "code",
   "execution_count": 21,
   "id": "5c533877",
   "metadata": {},
   "outputs": [
    {
     "data": {
      "text/plain": [
       "str"
      ]
     },
     "execution_count": 21,
     "metadata": {},
     "output_type": "execute_result"
    }
   ],
   "source": [
    "type(a)"
   ]
  },
  {
   "cell_type": "code",
   "execution_count": 22,
   "id": "949d210b",
   "metadata": {},
   "outputs": [
    {
     "data": {
      "text/plain": [
       "'nahoM iH'"
      ]
     },
     "execution_count": 22,
     "metadata": {},
     "output_type": "execute_result"
    }
   ],
   "source": [
    "# reverse the string \n",
    "\n",
    "a = \"Hi Mohan\"\n",
    "a[::-1]"
   ]
  },
  {
   "cell_type": "code",
   "execution_count": 23,
   "id": "a4505cab",
   "metadata": {},
   "outputs": [
    {
     "data": {
      "text/plain": [
       "'Hi Mohan'"
      ]
     },
     "execution_count": 23,
     "metadata": {},
     "output_type": "execute_result"
    }
   ],
   "source": [
    "a"
   ]
  },
  {
   "cell_type": "code",
   "execution_count": 24,
   "id": "74314f4d",
   "metadata": {},
   "outputs": [
    {
     "ename": "AttributeError",
     "evalue": "'str' object has no attribute 'reverse'",
     "output_type": "error",
     "traceback": [
      "\u001b[1;31m---------------------------------------------------------------------------\u001b[0m",
      "\u001b[1;31mAttributeError\u001b[0m                            Traceback (most recent call last)",
      "\u001b[1;32m~\\AppData\\Local\\Temp/ipykernel_27196/2721516429.py\u001b[0m in \u001b[0;36m<module>\u001b[1;34m\u001b[0m\n\u001b[1;32m----> 1\u001b[1;33m \u001b[0ma\u001b[0m\u001b[1;33m.\u001b[0m\u001b[0mreverse\u001b[0m\u001b[1;33m(\u001b[0m\u001b[1;33m)\u001b[0m\u001b[1;33m\u001b[0m\u001b[1;33m\u001b[0m\u001b[0m\n\u001b[0m",
      "\u001b[1;31mAttributeError\u001b[0m: 'str' object has no attribute 'reverse'"
     ]
    }
   ],
   "source": [
    "a.reverse()"
   ]
  },
  {
   "cell_type": "code",
   "execution_count": null,
   "id": "e11039bf",
   "metadata": {},
   "outputs": [],
   "source": [
    "lstrip()\n",
    "rstrip()\n",
    "strip()"
   ]
  },
  {
   "cell_type": "code",
   "execution_count": 25,
   "id": "ada2cc62",
   "metadata": {},
   "outputs": [],
   "source": [
    "a = \"  Hi      Pyhton         \""
   ]
  },
  {
   "cell_type": "code",
   "execution_count": 26,
   "id": "e49b201e",
   "metadata": {},
   "outputs": [
    {
     "data": {
      "text/plain": [
       "'  Hi      Pyhton         '"
      ]
     },
     "execution_count": 26,
     "metadata": {},
     "output_type": "execute_result"
    }
   ],
   "source": [
    "a"
   ]
  },
  {
   "cell_type": "code",
   "execution_count": 27,
   "id": "aef4adbb",
   "metadata": {},
   "outputs": [
    {
     "data": {
      "text/plain": [
       "'Hi      Pyhton         '"
      ]
     },
     "execution_count": 27,
     "metadata": {},
     "output_type": "execute_result"
    }
   ],
   "source": [
    "a.lstrip()"
   ]
  },
  {
   "cell_type": "code",
   "execution_count": 28,
   "id": "5fcc8425",
   "metadata": {},
   "outputs": [
    {
     "data": {
      "text/plain": [
       "'  Hi      Pyhton'"
      ]
     },
     "execution_count": 28,
     "metadata": {},
     "output_type": "execute_result"
    }
   ],
   "source": [
    "a.rstrip()"
   ]
  },
  {
   "cell_type": "code",
   "execution_count": 30,
   "id": "a96dbb12",
   "metadata": {},
   "outputs": [
    {
     "data": {
      "text/plain": [
       "'Hi      Pyhton'"
      ]
     },
     "execution_count": 30,
     "metadata": {},
     "output_type": "execute_result"
    }
   ],
   "source": [
    "a.strip()"
   ]
  },
  {
   "cell_type": "code",
   "execution_count": 50,
   "id": "ef74e918",
   "metadata": {},
   "outputs": [],
   "source": [
    "a = \" Hi Mohan Likhith Das kousthub RadheRavisingMishrisa \""
   ]
  },
  {
   "cell_type": "code",
   "execution_count": 49,
   "id": "54f95b34",
   "metadata": {},
   "outputs": [
    {
     "data": {
      "text/plain": [
       "53"
      ]
     },
     "execution_count": 49,
     "metadata": {},
     "output_type": "execute_result"
    }
   ],
   "source": [
    "len(a)"
   ]
  },
  {
   "cell_type": "code",
   "execution_count": 41,
   "id": "fa80c866",
   "metadata": {},
   "outputs": [
    {
     "data": {
      "text/plain": [
       "38"
      ]
     },
     "execution_count": 41,
     "metadata": {},
     "output_type": "execute_result"
    }
   ],
   "source": [
    "a.find(\"is\")"
   ]
  },
  {
   "cell_type": "code",
   "execution_count": 42,
   "id": "033ce4ef",
   "metadata": {},
   "outputs": [
    {
     "data": {
      "text/plain": [
       "48"
      ]
     },
     "execution_count": 42,
     "metadata": {},
     "output_type": "execute_result"
    }
   ],
   "source": [
    "a.rfind(\"is\")"
   ]
  },
  {
   "cell_type": "code",
   "execution_count": 51,
   "id": "cb8eb553",
   "metadata": {},
   "outputs": [
    {
     "data": {
      "text/plain": [
       "6"
      ]
     },
     "execution_count": 51,
     "metadata": {},
     "output_type": "execute_result"
    }
   ],
   "source": [
    "a.index(\"h\")"
   ]
  },
  {
   "cell_type": "code",
   "execution_count": 46,
   "id": "bb99da8e",
   "metadata": {},
   "outputs": [
    {
     "data": {
      "text/plain": [
       "46"
      ]
     },
     "execution_count": 46,
     "metadata": {},
     "output_type": "execute_result"
    }
   ],
   "source": [
    "a.rindex(\"h\")"
   ]
  },
  {
   "cell_type": "code",
   "execution_count": null,
   "id": "7cadb214",
   "metadata": {},
   "outputs": [],
   "source": [
    "# membership operators"
   ]
  },
  {
   "cell_type": "code",
   "execution_count": 52,
   "id": "4de4f769",
   "metadata": {},
   "outputs": [],
   "source": [
    "a = \"Hi Mohananghbjfgdsheurythjdklglmcdhjhfjkfksjsjhhshnfmfkf\"\n"
   ]
  },
  {
   "cell_type": "code",
   "execution_count": 53,
   "id": "8f719dc0",
   "metadata": {},
   "outputs": [
    {
     "data": {
      "text/plain": [
       "True"
      ]
     },
     "execution_count": 53,
     "metadata": {},
     "output_type": "execute_result"
    }
   ],
   "source": [
    "\"mc\" in a"
   ]
  },
  {
   "cell_type": "code",
   "execution_count": 56,
   "id": "1b4a27e6",
   "metadata": {},
   "outputs": [
    {
     "data": {
      "text/plain": [
       "False"
      ]
     },
     "execution_count": 56,
     "metadata": {},
     "output_type": "execute_result"
    }
   ],
   "source": [
    "\"mc\" not in a"
   ]
  },
  {
   "cell_type": "code",
   "execution_count": 54,
   "id": "dac3506b",
   "metadata": {},
   "outputs": [
    {
     "data": {
      "text/plain": [
       "False"
      ]
     },
     "execution_count": 54,
     "metadata": {},
     "output_type": "execute_result"
    }
   ],
   "source": [
    "\"xz\" in a"
   ]
  },
  {
   "cell_type": "code",
   "execution_count": 55,
   "id": "84636c5d",
   "metadata": {},
   "outputs": [
    {
     "data": {
      "text/plain": [
       "True"
      ]
     },
     "execution_count": 55,
     "metadata": {},
     "output_type": "execute_result"
    }
   ],
   "source": [
    "\"xz\" not in a"
   ]
  },
  {
   "cell_type": "code",
   "execution_count": 57,
   "id": "3e9ee543",
   "metadata": {},
   "outputs": [],
   "source": [
    "# replace()\n",
    "\n",
    "a = \"asdfghjklzxcvbnmqwertyuiop\"\n",
    "b = a.replace(\"a\",\"z\")"
   ]
  },
  {
   "cell_type": "code",
   "execution_count": 58,
   "id": "34d8fc7d",
   "metadata": {},
   "outputs": [
    {
     "data": {
      "text/plain": [
       "'zsdfghjklzxcvbnmqwertyuiop'"
      ]
     },
     "execution_count": 58,
     "metadata": {},
     "output_type": "execute_result"
    }
   ],
   "source": [
    "b"
   ]
  },
  {
   "cell_type": "code",
   "execution_count": 59,
   "id": "de2a1cd1",
   "metadata": {},
   "outputs": [],
   "source": [
    "a = \"fgfgfgfgfgfgfgfgfgfgfgfgfgfgf\"\n",
    "b = a.replace(\"fg\",\"lv\")"
   ]
  },
  {
   "cell_type": "code",
   "execution_count": 60,
   "id": "a771af50",
   "metadata": {},
   "outputs": [
    {
     "data": {
      "text/plain": [
       "'lvlvlvlvlvlvlvlvlvlvlvlvlvlvf'"
      ]
     },
     "execution_count": 60,
     "metadata": {},
     "output_type": "execute_result"
    }
   ],
   "source": [
    "b"
   ]
  },
  {
   "cell_type": "code",
   "execution_count": null,
   "id": "0d609a13",
   "metadata": {},
   "outputs": [],
   "source": [
    "# case change"
   ]
  },
  {
   "cell_type": "code",
   "execution_count": 61,
   "id": "85660943",
   "metadata": {},
   "outputs": [
    {
     "data": {
      "text/plain": [
       "'fgfgfgfgfgfgfgfgfgfgfgfgfgfgf'"
      ]
     },
     "execution_count": 61,
     "metadata": {},
     "output_type": "execute_result"
    }
   ],
   "source": [
    "a"
   ]
  },
  {
   "cell_type": "code",
   "execution_count": 62,
   "id": "ede04f2e",
   "metadata": {},
   "outputs": [
    {
     "data": {
      "text/plain": [
       "'FGFGFGFGFGFGFGFGFGFGFGFGFGFGF'"
      ]
     },
     "execution_count": 62,
     "metadata": {},
     "output_type": "execute_result"
    }
   ],
   "source": [
    "a.upper()"
   ]
  },
  {
   "cell_type": "code",
   "execution_count": 63,
   "id": "f4bba634",
   "metadata": {},
   "outputs": [
    {
     "data": {
      "text/plain": [
       "'fgfgfgfgfgfgfgfgfgfgfgfgfgfgf'"
      ]
     },
     "execution_count": 63,
     "metadata": {},
     "output_type": "execute_result"
    }
   ],
   "source": [
    "a.lower()"
   ]
  },
  {
   "cell_type": "code",
   "execution_count": 65,
   "id": "fdd39287",
   "metadata": {},
   "outputs": [
    {
     "data": {
      "text/plain": [
       "1"
      ]
     },
     "execution_count": 65,
     "metadata": {},
     "output_type": "execute_result"
    }
   ],
   "source": [
    "12//7"
   ]
  },
  {
   "cell_type": "code",
   "execution_count": 66,
   "id": "24705ce3",
   "metadata": {},
   "outputs": [
    {
     "data": {
      "text/plain": [
       "5"
      ]
     },
     "execution_count": 66,
     "metadata": {},
     "output_type": "execute_result"
    }
   ],
   "source": [
    "12%7"
   ]
  },
  {
   "cell_type": "code",
   "execution_count": 68,
   "id": "f6a280e4",
   "metadata": {},
   "outputs": [
    {
     "data": {
      "text/plain": [
       "1024"
      ]
     },
     "execution_count": 68,
     "metadata": {},
     "output_type": "execute_result"
    }
   ],
   "source": [
    "2 **10"
   ]
  },
  {
   "cell_type": "code",
   "execution_count": 69,
   "id": "f74a2098",
   "metadata": {},
   "outputs": [
    {
     "name": "stdout",
     "output_type": "stream",
     "text": [
      "0\n",
      "1\n",
      "2\n",
      "3\n",
      "4\n",
      "5\n",
      "6\n",
      "7\n",
      "8\n",
      "9\n"
     ]
    }
   ],
   "source": [
    "for i in range(10):\n",
    "    print(i)\n"
   ]
  },
  {
   "cell_type": "code",
   "execution_count": 70,
   "id": "535cb825",
   "metadata": {},
   "outputs": [
    {
     "name": "stdout",
     "output_type": "stream",
     "text": [
      "1\n",
      "2\n",
      "3\n",
      "4\n",
      "5\n",
      "6\n",
      "7\n",
      "8\n",
      "9\n"
     ]
    }
   ],
   "source": [
    "for i in range(1,10):\n",
    "    print(i)"
   ]
  },
  {
   "cell_type": "code",
   "execution_count": 72,
   "id": "244d0a4e",
   "metadata": {},
   "outputs": [
    {
     "name": "stdout",
     "output_type": "stream",
     "text": [
      "1\n"
     ]
    }
   ],
   "source": [
    "for i in range(1,4,10):\n",
    "    print(i)"
   ]
  },
  {
   "cell_type": "code",
   "execution_count": 73,
   "id": "0cc287ba",
   "metadata": {},
   "outputs": [
    {
     "name": "stdout",
     "output_type": "stream",
     "text": [
      "10\n",
      "20\n",
      "30\n",
      "40\n",
      "50\n",
      "60\n",
      "70\n",
      "80\n",
      "90\n"
     ]
    }
   ],
   "source": [
    "for i in range(10,100,10):\n",
    "    print(i)"
   ]
  },
  {
   "cell_type": "code",
   "execution_count": null,
   "id": "0d3f0736",
   "metadata": {},
   "outputs": [],
   "source": [
    "range(start, end, step/ frequency)\n",
    "list = []"
   ]
  },
  {
   "cell_type": "markdown",
   "id": "8b055687",
   "metadata": {},
   "source": [
    "# 1."
   ]
  },
  {
   "cell_type": "code",
   "execution_count": null,
   "id": "af077eea",
   "metadata": {},
   "outputs": [],
   "source": [
    "Marks in each subject are there in list find out the percentage and status?\n",
    "marks = [12,88,56,98,77,89]\n",
    "6 subjets \n",
    "100\n",
    "35>= pass\n",
    "35< Fail"
   ]
  },
  {
   "cell_type": "code",
   "execution_count": null,
   "id": "e4b1567e",
   "metadata": {},
   "outputs": [],
   "source": [
    "Step by Process : \n",
    "    1. "
   ]
  },
  {
   "cell_type": "markdown",
   "id": "7152a875",
   "metadata": {},
   "source": [
    "# 2."
   ]
  },
  {
   "cell_type": "code",
   "execution_count": null,
   "id": "487db50c",
   "metadata": {},
   "outputs": [],
   "source": [
    "#       1 percent on the first $50,000\n",
    "#       2 percent on the amount over $50,000 up to $75,000\n",
    "#       3 percent on the amount over $75,000 up to $100,000\n",
    "#       4 percent on the amount over $100,000 up to $250,000\n",
    "#       5 percent on the amount over $250,000 up to $500,000\n",
    "#       6 percent on the amount over $500,000"
   ]
  },
  {
   "cell_type": "code",
   "execution_count": null,
   "id": "c9c282ef",
   "metadata": {},
   "outputs": [],
   "source": [
    "# 600000\n",
    "\n",
    "#50000 - 500  - 50000\n",
    "#25000 - 500  - 75000\n",
    "#25000 - 750  - 100000\n",
    "#150000 - 6000 - 250000\n",
    "#250000 - 12500 - 500000\n",
    "#100000 -  6000 - 600000\n",
    "-------------------------\n",
    "         26250\n",
    "-------------------------"
   ]
  },
  {
   "cell_type": "code",
   "execution_count": null,
   "id": "6440d0c3",
   "metadata": {},
   "outputs": [],
   "source": [
    "450000 = ?"
   ]
  },
  {
   "cell_type": "markdown",
   "id": "2eb04ab7",
   "metadata": {},
   "source": [
    "# 3."
   ]
  },
  {
   "cell_type": "code",
   "execution_count": null,
   "id": "0a20a81b",
   "metadata": {},
   "outputs": [],
   "source": [
    "98 cents a change:\n",
    "    \n",
    "    1 - penny\n",
    "    5 - nikkle\n",
    "    10 -dime\n",
    "    25 - quarter\n",
    "    \n",
    "    (3,2, 0,3)"
   ]
  },
  {
   "cell_type": "markdown",
   "id": "424badcb",
   "metadata": {},
   "source": [
    "# 4. "
   ]
  },
  {
   "cell_type": "code",
   "execution_count": null,
   "id": "aa1cf1d6",
   "metadata": {},
   "outputs": [],
   "source": [
    "# How to identify a single digit sum for mobile number which will allow 10 digit number which is not starting with zero.\n",
    "\n",
    "129 = 1 +2+9 = 12 = 1+2 = 3"
   ]
  },
  {
   "cell_type": "markdown",
   "id": "5961a607",
   "metadata": {},
   "source": [
    "# 5. "
   ]
  },
  {
   "cell_type": "code",
   "execution_count": null,
   "id": "52465757",
   "metadata": {},
   "outputs": [],
   "source": [
    "# How to calculate luckky number from your name by giving numbers to your alphs bets from 1 to 26.(Single digit)\n",
    "\n",
    "bzc = 2 +26 +3 = 31 = 3 +1= 4"
   ]
  },
  {
   "cell_type": "markdown",
   "id": "f89855ad",
   "metadata": {},
   "source": [
    "# 6."
   ]
  },
  {
   "cell_type": "code",
   "execution_count": null,
   "id": "32f9f468",
   "metadata": {},
   "outputs": [],
   "source": [
    "# how you identify factors of a number  which is dynamicalli provided number?\n",
    "\n",
    "10 : factors : 1,2,5,"
   ]
  }
 ],
 "metadata": {
  "kernelspec": {
   "display_name": "Python 3 (ipykernel)",
   "language": "python",
   "name": "python3"
  },
  "language_info": {
   "codemirror_mode": {
    "name": "ipython",
    "version": 3
   },
   "file_extension": ".py",
   "mimetype": "text/x-python",
   "name": "python",
   "nbconvert_exporter": "python",
   "pygments_lexer": "ipython3",
   "version": "3.9.7"
  }
 },
 "nbformat": 4,
 "nbformat_minor": 5
}
