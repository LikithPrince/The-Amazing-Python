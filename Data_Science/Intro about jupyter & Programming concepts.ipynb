{
 "cells": [
  {
   "cell_type": "markdown",
   "id": "60222b1a",
   "metadata": {},
   "source": [
    "# <font color = \"Red\">**Introduction**<font/>"
   ]
  },
  {
   "cell_type": "code",
   "execution_count": null,
   "id": "4e75cd34",
   "metadata": {},
   "outputs": [],
   "source": [
    "cell"
   ]
  },
  {
   "cell_type": "markdown",
   "id": "35ab578d",
   "metadata": {},
   "source": [
    "Markdown"
   ]
  },
  {
   "cell_type": "markdown",
   "id": "f51cbce1",
   "metadata": {},
   "source": [
    "<font color = \"Red\">**What is Markdown?**<font/>"
   ]
  },
  {
   "cell_type": "markdown",
   "id": "0163fcff",
   "metadata": {},
   "source": [
    "- Markdown is a state of cell.\n",
    "- Markdown uses to make a note of observations and logics and instructions provided by business.\n",
    "- Some times we can hide code from execution also if we feel the piece of code usefull in future.\n",
    "- To make comments for code, it means why we are writing the code and in which way we implemented the logic and the purpose of code.\n",
    "- if we have a habit of comments for the code which we are writing it is usefull for us after some time we come back to the code we can easily understand along with that a new person also easily can understand code."
   ]
  },
  {
   "cell_type": "markdown",
   "id": "5c4bd5a3",
   "metadata": {},
   "source": [
    "<font color = \"Red\">**Different types of jupyter functionality :**<font/>"
   ]
  },
  {
   "cell_type": "markdown",
   "id": "71e823ec",
   "metadata": {},
   "source": [
    "- To add a New cell \n",
    "    - \"+\" from toolbar\n",
    "    - Esc + A        : To add a cell above to the current cell\n",
    "    - Esc + B        : To add a cell below to the current cell\n",
    "    - Shift + Enter  : tO add a cell below to the current cell\n",
    "  \n",
    "- To delete a cell\n",
    "    - Esc+dd\n",
    "    \n",
    "- To Convert code cell into Markdown : Esc + M\n",
    "- To Convert Markdown to code cell   : Esc + y\n",
    "\n",
    "- To execute a code whcih is written in cell:\n",
    "    - Run form Toolbar\n",
    "    - Shift + Enter\n",
    "    - Ctrl+ Enter"
   ]
  },
  {
   "cell_type": "markdown",
   "id": "4fd4ad44",
   "metadata": {},
   "source": [
    "<font color = \"Red\">**Different fonts and sizes and colours**<font/>"
   ]
  },
  {
   "cell_type": "markdown",
   "id": "f2ba3b79",
   "metadata": {},
   "source": [
    "# Heading -1\n",
    "## Heading -2\n",
    "### Heading  -3\n",
    "#### Heading -4\n",
    "##### Heading -5\n",
    "###### Heading -6\n",
    "\n",
    "point\n",
    "- point\n",
    "    - sub points\n",
    "    \n",
    "*Italic*\n",
    "\n",
    "**Bold**\n",
    "\n",
    "<font color = \"Red\"> How to set color to Text ? <font/>\n",
    "    \n",
    "- \"#\" will be used as a comment symbol in code cell ."
   ]
  },
  {
   "cell_type": "code",
   "execution_count": null,
   "id": "a433cf41",
   "metadata": {},
   "outputs": [],
   "source": []
  },
  {
   "cell_type": "markdown",
   "id": "750000d6",
   "metadata": {},
   "source": [
    "# <font color = \"Red\">**Python using as a simple calculator.**<font/>"
   ]
  },
  {
   "cell_type": "code",
   "execution_count": 47,
   "id": "00ada4db",
   "metadata": {},
   "outputs": [
    {
     "data": {
      "text/plain": [
       "24"
      ]
     },
     "execution_count": 47,
     "metadata": {},
     "output_type": "execute_result"
    }
   ],
   "source": [
    "12 +12"
   ]
  },
  {
   "cell_type": "code",
   "execution_count": 48,
   "id": "8da10ecc",
   "metadata": {},
   "outputs": [
    {
     "data": {
      "text/plain": [
       "144"
      ]
     },
     "execution_count": 48,
     "metadata": {},
     "output_type": "execute_result"
    }
   ],
   "source": [
    "12 *12"
   ]
  },
  {
   "cell_type": "code",
   "execution_count": 49,
   "id": "22a7d73e",
   "metadata": {},
   "outputs": [
    {
     "data": {
      "text/plain": [
       "15129"
      ]
     },
     "execution_count": 49,
     "metadata": {},
     "output_type": "execute_result"
    }
   ],
   "source": [
    "123*123"
   ]
  },
  {
   "cell_type": "markdown",
   "id": "7480fe2f",
   "metadata": {},
   "source": [
    "# <font color = \"Red\">**Identifiers**<font/>"
   ]
  },
  {
   "cell_type": "markdown",
   "id": "41324ed2",
   "metadata": {},
   "source": [
    "A name in python is called Identifier. It can be Class name OR Function Name OR Module Name OR Variable.\n",
    "    \n",
    "**Example:**\n",
    "\n",
    "- name = \"Python\"\n",
    "- Age = 25\n",
    "- i = 1.8"
   ]
  },
  {
   "cell_type": "markdown",
   "id": "7809d1b1",
   "metadata": {},
   "source": [
    "## <font color = \"Red\">**Python is Case sensitive Language**<font/>"
   ]
  },
  {
   "cell_type": "code",
   "execution_count": 50,
   "id": "047a81b4",
   "metadata": {},
   "outputs": [
    {
     "name": "stdout",
     "output_type": "stream",
     "text": [
      "Value Assigned to the variable 'A' : 12\n",
      "Value Assigned to the variable 'a' : 10\n"
     ]
    }
   ],
   "source": [
    "# Defining variables / Identifier \n",
    "A = 12\n",
    "a = 10\n",
    "\n",
    "\n",
    "print(\"Value Assigned to the variable 'A' : {}\".format(A))\n",
    "print(\"Value Assigned to the variable 'a' : {}\".format(a))"
   ]
  },
  {
   "cell_type": "code",
   "execution_count": null,
   "id": "b13bcf12",
   "metadata": {},
   "outputs": [],
   "source": [
    "print(\"{} {}\".format(1,2,3))"
   ]
  },
  {
   "cell_type": "markdown",
   "id": "350ec6f7",
   "metadata": {},
   "source": [
    "## <font color = \"Red\">**Remember When you are defining variable/ Identifier :**<font/>\n",
    "- To define a identifier only allowed characters are 0-9, a-z, A-Z, underscore (_).\n",
    "- An Identifier should not start with number.\n",
    "- Spacec are not allowed in creation of identifiers.\n",
    "- There is no length limit to create Identifiers but a meaning full format is recommended.\n",
    "- If you use any special character except _ you will get a syntax error.\n",
    "- Identifiers are case sensitive.\n",
    "- dont use reserved words as a identifiers.\n",
    "- If identifier starts with _ symbol then it indicates that it is private.\n",
    "- If identifier starts with __(2 underscores) symbol then it indicates that it is strongly private.\n",
    "- If identifier starts and ends with _ then it is language defined special name also called as magic methods. Example : __ add__"
   ]
  },
  {
   "cell_type": "code",
   "execution_count": 55,
   "id": "adb408b6",
   "metadata": {},
   "outputs": [
    {
     "name": "stdout",
     "output_type": "stream",
     "text": [
      "10\n"
     ]
    }
   ],
   "source": [
    "amultiple_Varii12 = 10\n",
    "print(amultiple_Varii12)"
   ]
  },
  {
   "cell_type": "code",
   "execution_count": null,
   "id": "0cadb2f3",
   "metadata": {},
   "outputs": [],
   "source": [
    "# 1. space\n",
    "# 2. special characters( Except _)\n",
    "# 3. Variable Starting with a number\n",
    "# 4. using reserved words."
   ]
  },
  {
   "cell_type": "code",
   "execution_count": null,
   "id": "b6d43d92",
   "metadata": {},
   "outputs": [],
   "source": [
    "1. india, us, nz, au,\n",
    "2. tajmahal, pyramids,eiffel tower, \n",
    "3. hyderabad, delhi, mumbai, jammu, kashmir"
   ]
  },
  {
   "cell_type": "code",
   "execution_count": 56,
   "id": "02250366",
   "metadata": {},
   "outputs": [
    {
     "ename": "SyntaxError",
     "evalue": "invalid syntax (Temp/ipykernel_9992/1758765363.py, line 1)",
     "output_type": "error",
     "traceback": [
      "\u001b[1;36m  File \u001b[1;32m\"C:\\Users\\x\\AppData\\Local\\Temp/ipykernel_9992/1758765363.py\"\u001b[1;36m, line \u001b[1;32m1\u001b[0m\n\u001b[1;33m    for = 12\u001b[0m\n\u001b[1;37m        ^\u001b[0m\n\u001b[1;31mSyntaxError\u001b[0m\u001b[1;31m:\u001b[0m invalid syntax\n"
     ]
    }
   ],
   "source": [
    "for = 12"
   ]
  },
  {
   "cell_type": "code",
   "execution_count": 57,
   "id": "8afa011a",
   "metadata": {},
   "outputs": [
    {
     "ename": "SyntaxError",
     "evalue": "invalid syntax (Temp/ipykernel_9992/4048098288.py, line 1)",
     "output_type": "error",
     "traceback": [
      "\u001b[1;36m  File \u001b[1;32m\"C:\\Users\\x\\AppData\\Local\\Temp/ipykernel_9992/4048098288.py\"\u001b[1;36m, line \u001b[1;32m1\u001b[0m\n\u001b[1;33m    if = 2\u001b[0m\n\u001b[1;37m       ^\u001b[0m\n\u001b[1;31mSyntaxError\u001b[0m\u001b[1;31m:\u001b[0m invalid syntax\n"
     ]
    }
   ],
   "source": [
    "if = 2"
   ]
  },
  {
   "cell_type": "code",
   "execution_count": 58,
   "id": "2cf2bd67",
   "metadata": {},
   "outputs": [],
   "source": [
    "int = 12"
   ]
  },
  {
   "cell_type": "code",
   "execution_count": 63,
   "id": "7c7f627b",
   "metadata": {},
   "outputs": [
    {
     "data": {
      "text/plain": [
       "12"
      ]
     },
     "execution_count": 63,
     "metadata": {},
     "output_type": "execute_result"
    }
   ],
   "source": [
    "int(12.5)"
   ]
  },
  {
   "cell_type": "code",
   "execution_count": 62,
   "id": "0605781e",
   "metadata": {},
   "outputs": [
    {
     "ename": "NameError",
     "evalue": "name 'int' is not defined",
     "output_type": "error",
     "traceback": [
      "\u001b[1;31m---------------------------------------------------------------------------\u001b[0m",
      "\u001b[1;31mNameError\u001b[0m                                 Traceback (most recent call last)",
      "\u001b[1;32m~\\AppData\\Local\\Temp/ipykernel_9992/3231125233.py\u001b[0m in \u001b[0;36m<module>\u001b[1;34m\u001b[0m\n\u001b[1;32m----> 1\u001b[1;33m \u001b[1;32mdel\u001b[0m \u001b[0mint\u001b[0m\u001b[1;33m\u001b[0m\u001b[1;33m\u001b[0m\u001b[0m\n\u001b[0m",
      "\u001b[1;31mNameError\u001b[0m: name 'int' is not defined"
     ]
    }
   ],
   "source": [
    "del int"
   ]
  },
  {
   "cell_type": "markdown",
   "id": "a35c56a2",
   "metadata": {},
   "source": [
    "# <font color = \"Red\">**Reserved Keywords**<font/>"
   ]
  },
  {
   "cell_type": "markdown",
   "id": "c1ea11ed",
   "metadata": {},
   "source": [
    "In any programming language some words are reserved for its own creation. that words have some meaning or some functionality. such type of words are considered as reserved words. that word it self has some meaning. total 33 keywords in Python.Except False, True, None all reserverd words contains lower case alphabets."
   ]
  },
  {
   "cell_type": "markdown",
   "id": "c2b4fda3",
   "metadata": {},
   "source": [
    "|False|True|None|---|---|---|\n",
    "|---|---|---|---|---|---|\n",
    "|def|raise|del|import|except|assert|\n",
    "|----|---|---|---|---|---|\n",
    "|with|lambda|or|return|in|try|\n",
    "|---|---|---|---|---|---|\n",
    "|if|elif|else|for|while|break|\n",
    "|---|---|---|---|---|---|\n",
    "|continue|pass|global|local|nonlocal|yeild|\n",
    "|---|---|---|---|---|---|\n",
    "|and|is|as|not|finally|class|\n",
    "\n",
    "\n",
    "\n",
    "\n"
   ]
  },
  {
   "cell_type": "code",
   "execution_count": 11,
   "id": "a717584e",
   "metadata": {
    "collapsed": true
   },
   "outputs": [
    {
     "data": {
      "text/plain": [
       "['False',\n",
       " 'None',\n",
       " 'True',\n",
       " '__peg_parser__',\n",
       " 'and',\n",
       " 'as',\n",
       " 'assert',\n",
       " 'async',\n",
       " 'await',\n",
       " 'break',\n",
       " 'class',\n",
       " 'continue',\n",
       " 'def',\n",
       " 'del',\n",
       " 'elif',\n",
       " 'else',\n",
       " 'except',\n",
       " 'finally',\n",
       " 'for',\n",
       " 'from',\n",
       " 'global',\n",
       " 'if',\n",
       " 'import',\n",
       " 'in',\n",
       " 'is',\n",
       " 'lambda',\n",
       " 'nonlocal',\n",
       " 'not',\n",
       " 'or',\n",
       " 'pass',\n",
       " 'raise',\n",
       " 'return',\n",
       " 'try',\n",
       " 'while',\n",
       " 'with',\n",
       " 'yield']"
      ]
     },
     "execution_count": 11,
     "metadata": {},
     "output_type": "execute_result"
    }
   ],
   "source": [
    "# Importing keyword module \n",
    "import keyword\n",
    "\n",
    "# Calling kwlist from keyword module\n",
    "keyword.kwlist"
   ]
  },
  {
   "cell_type": "code",
   "execution_count": 64,
   "id": "adef9712",
   "metadata": {
    "collapsed": true
   },
   "outputs": [
    {
     "name": "stdout",
     "output_type": "stream",
     "text": [
      "The \"for\" statement\n",
      "*******************\n",
      "\n",
      "The \"for\" statement is used to iterate over the elements of a sequence\n",
      "(such as a string, tuple or list) or other iterable object:\n",
      "\n",
      "   for_stmt ::= \"for\" target_list \"in\" expression_list \":\" suite\n",
      "                [\"else\" \":\" suite]\n",
      "\n",
      "The expression list is evaluated once; it should yield an iterable\n",
      "object.  An iterator is created for the result of the\n",
      "\"expression_list\".  The suite is then executed once for each item\n",
      "provided by the iterator, in the order returned by the iterator.  Each\n",
      "item in turn is assigned to the target list using the standard rules\n",
      "for assignments (see Assignment statements), and then the suite is\n",
      "executed.  When the items are exhausted (which is immediately when the\n",
      "sequence is empty or an iterator raises a \"StopIteration\" exception),\n",
      "the suite in the \"else\" clause, if present, is executed, and the loop\n",
      "terminates.\n",
      "\n",
      "A \"break\" statement executed in the first suite terminates the loop\n",
      "without executing the \"else\" clause’s suite.  A \"continue\" statement\n",
      "executed in the first suite skips the rest of the suite and continues\n",
      "with the next item, or with the \"else\" clause if there is no next\n",
      "item.\n",
      "\n",
      "The for-loop makes assignments to the variables in the target list.\n",
      "This overwrites all previous assignments to those variables including\n",
      "those made in the suite of the for-loop:\n",
      "\n",
      "   for i in range(10):\n",
      "       print(i)\n",
      "       i = 5             # this will not affect the for-loop\n",
      "                         # because i will be overwritten with the next\n",
      "                         # index in the range\n",
      "\n",
      "Names in the target list are not deleted when the loop is finished,\n",
      "but if the sequence is empty, they will not have been assigned to at\n",
      "all by the loop.  Hint: the built-in function \"range()\" returns an\n",
      "iterator of integers suitable to emulate the effect of Pascal’s \"for i\n",
      ":= a to b do\"; e.g., \"list(range(3))\" returns the list \"[0, 1, 2]\".\n",
      "\n",
      "Note:\n",
      "\n",
      "  There is a subtlety when the sequence is being modified by the loop\n",
      "  (this can only occur for mutable sequences, e.g. lists).  An\n",
      "  internal counter is used to keep track of which item is used next,\n",
      "  and this is incremented on each iteration.  When this counter has\n",
      "  reached the length of the sequence the loop terminates.  This means\n",
      "  that if the suite deletes the current (or a previous) item from the\n",
      "  sequence, the next item will be skipped (since it gets the index of\n",
      "  the current item which has already been treated).  Likewise, if the\n",
      "  suite inserts an item in the sequence before the current item, the\n",
      "  current item will be treated again the next time through the loop.\n",
      "  This can lead to nasty bugs that can be avoided by making a\n",
      "  temporary copy using a slice of the whole sequence, e.g.,\n",
      "\n",
      "     for x in a[:]:\n",
      "         if x < 0: a.remove(x)\n",
      "\n",
      "Related help topics: break, continue, while\n",
      "\n"
     ]
    }
   ],
   "source": [
    "# Two Know the documentation about reserved Keywords / others\n",
    "help(\"for\")"
   ]
  },
  {
   "cell_type": "markdown",
   "id": "120884f2",
   "metadata": {},
   "source": [
    "# <font color = \"Red\">**Data Types**<font/>"
   ]
  },
  {
   "cell_type": "markdown",
   "id": "5e516b3d",
   "metadata": {},
   "source": [
    "- The name it self indicating it is something related type of data which is assigned to a variable.\n",
    "- In python we no need to specify the type of the data when we are creating a variable because after execution it can automatically detect the type of data assigned to the variable, this feature is called dynamically typed.\n",
    "\n",
    "- Inbuilt data types in Python\n",
    "    1. int              \n",
    "    2. float\n",
    "    3. complex\n",
    "    4. bool\n",
    "    5. str\n",
    "    6. bytes\n",
    "    7. bytearray\n",
    "    8. range\n",
    "    9. list\n",
    "    10. tuple\n",
    "    11. set\n",
    "    12. Frozen set\n",
    "    13. Dict\n",
    "    14. None"
   ]
  },
  {
   "cell_type": "markdown",
   "id": "0fdb7548",
   "metadata": {},
   "source": [
    "# <font color= \"brown\" >In- Built Function and it's Description<font/>\n",
    "<font color = \"white\">\n",
    "    https://www.w3schools.com/python/python_ref_functions.asp\n",
    "- abs()\t        :Returns the absolute value of a number\n",
    "- all()\t        :Returns True if all items in an iterable object are true\n",
    "- any()\t        :Returns True if any item in an iterable object is true\n",
    "- ascii()\t    :Returns a readable version of an object. Replaces none-ascii characters with escape character\n",
    "- bin()\t        :Returns the binary version of a number\n",
    "- bool()\t    :Returns the boolean value of the specified object\n",
    "- bytearray()\t:Returns an array of bytes\n",
    "- bytes()\t    :Returns a bytes object\n",
    "- callable()\t:Returns True if the specified object is callable, otherwise False\n",
    "- chr()\t        :Returns a character from the specified Unicode code.\n",
    "- classmethod()\t:Converts a method into a class method\n",
    "- compile()\t    :Returns the specified source as an object, ready to be executed\n",
    "- complex()\t    :Returns a complex number\n",
    "- delattr()\t    :Deletes the specified attribute (property or method) from the specified object\n",
    "- dict()\t    :Returns a dictionary (Array)\n",
    "- dir()\t        :Returns a list of the specified object's properties and methods\n",
    "- divmod()\t    :Returns the quotient and the remainder when argument1 is divided by argument2\n",
    "- enumerate()\t:Takes a collection (e.g. a tuple) and returns it as an enumerate object\n",
    "- eval()\t    :Evaluates and executes an expression\n",
    "- exec()\t    :Executes the specified code (or object)\n",
    "- filter()\t    :Use a filter function to exclude items in an iterable object\n",
    "- float()\t    :Returns a floating point number\n",
    "- format()\t    :Formats a specified value\n",
    "- frozenset()\t:Returns a frozenset object\n",
    "- getattr()\t    :Returns the value of the specified attribute (property or method)\n",
    "- globals()\t    :Returns the current global symbol table as a dictionary\n",
    "- hasattr()\t    :Returns True if the specified object has the specified attribute (property/method)\n",
    "- hash()\t    :Returns the hash value of a specified object\n",
    "- help()\t    :Executes the built-in help system\n",
    "- hex()\t        :Converts a number into a hexadecimal value\n",
    "- id()\t        :Returns the id of an object\n",
    "- input()\t    :Allowing user input\n",
    "- int()\t        :Returns an integer number\n",
    "- isinstance()\t:Returns True if a specified object is an instance of a specified object\n",
    "- issubclass()\t:Returns True if a specified class is a subclass of a specified object\n",
    "- iter()\t    :Returns an iterator object\n",
    "- len()\t        :Returns the length of an object\n",
    "- list()\t    :Returns a list\n",
    "- locals()   \t:Returns an updated dictionary of the current local symbol table\n",
    "- map()\t        :Returns the specified iterator with the specified function applied to each item\n",
    "- max()\t        :Returns the largest item in an iterable\n",
    "- memoryview()\t:Returns a memory view object\n",
    "- min()\t        :Returns the smallest item in an iterable\n",
    "- next()\t    :Returns the next item in an iterable\n",
    "- object()\t    :Returns a new object\n",
    "- oct()\t        :Converts a number into an octal\n",
    "- open()\t    :Opens a file and returns a file object\n",
    "- ord()     \t:Convert an integer representing the Unicode of the specified character\n",
    "- pow()\t        :Returns the value of x to the power of y\n",
    "- print()\t    :Prints to the standard output device\n",
    "- property()\t:Gets, sets, deletes a property\n",
    "- range()\t    :Returns a sequence of numbers, starting from 0 and increments by 1 (by default)\n",
    "- repr()\t    :Returns a readable version of an object\n",
    "- reversed()\t:Returns a reversed iterator\n",
    "- round()\t    :Rounds a numbers\n",
    "- set()\t        :Returns a new set object\n",
    "- setattr()\t    :Sets an attribute (property/method) of an object\n",
    "- slice()\t    :Returns a slice object\n",
    "- sorted()\t    :Returns a sorted list\n",
    "- staticmethod():Converts a method into a static method\n",
    "- str()\t        :Returns a string object\n",
    "- sum()\t        :Sums the items of an iterator\n",
    "- super()\t    :Returns an object that represents the parent class\n",
    "- tuple()\t    :Returns a tuple\n",
    "- type()\t    :Returns the type of an object\n",
    "- vars()\t    :Returns the __dict__ property of an object\n",
    "- zip()\t        :Returns an iterator, from two or more iterators\n",
    "<font/>"
   ]
  },
  {
   "cell_type": "markdown",
   "id": "fe203cdd",
   "metadata": {},
   "source": [
    "## type()  - To check the type of the variable"
   ]
  },
  {
   "cell_type": "code",
   "execution_count": null,
   "id": "79487db4",
   "metadata": {},
   "outputs": [],
   "source": []
  },
  {
   "cell_type": "code",
   "execution_count": null,
   "id": "c186eb0c",
   "metadata": {},
   "outputs": [],
   "source": []
  },
  {
   "cell_type": "code",
   "execution_count": null,
   "id": "46913833",
   "metadata": {},
   "outputs": [],
   "source": []
  },
  {
   "cell_type": "markdown",
   "id": "9dd58112",
   "metadata": {},
   "source": [
    "## id() - To get Address of object "
   ]
  },
  {
   "cell_type": "code",
   "execution_count": null,
   "id": "b568944b",
   "metadata": {},
   "outputs": [],
   "source": []
  },
  {
   "cell_type": "code",
   "execution_count": null,
   "id": "3fa9dbab",
   "metadata": {},
   "outputs": [],
   "source": []
  },
  {
   "cell_type": "code",
   "execution_count": null,
   "id": "70c12af3",
   "metadata": {},
   "outputs": [],
   "source": []
  },
  {
   "cell_type": "code",
   "execution_count": null,
   "id": "f7f4b4bc",
   "metadata": {},
   "outputs": [],
   "source": []
  },
  {
   "cell_type": "markdown",
   "id": "af52c014",
   "metadata": {},
   "source": [
    "## print()- To print / Display the value"
   ]
  },
  {
   "cell_type": "code",
   "execution_count": null,
   "id": "0fa9e986",
   "metadata": {},
   "outputs": [],
   "source": []
  },
  {
   "cell_type": "markdown",
   "id": "765c59c6",
   "metadata": {},
   "source": [
    "## <font color = \"Green\"> **int data type :**<font/>"
   ]
  },
  {
   "cell_type": "code",
   "execution_count": null,
   "id": "d407c6e0",
   "metadata": {},
   "outputs": [],
   "source": []
  },
  {
   "cell_type": "code",
   "execution_count": null,
   "id": "4afd299c",
   "metadata": {},
   "outputs": [],
   "source": []
  },
  {
   "cell_type": "code",
   "execution_count": null,
   "id": "ecad894b",
   "metadata": {},
   "outputs": [],
   "source": []
  },
  {
   "cell_type": "code",
   "execution_count": null,
   "id": "e0ccba7b",
   "metadata": {},
   "outputs": [],
   "source": []
  },
  {
   "cell_type": "code",
   "execution_count": null,
   "id": "08260273",
   "metadata": {},
   "outputs": [],
   "source": []
  },
  {
   "cell_type": "code",
   "execution_count": null,
   "id": "70fbdfc3",
   "metadata": {},
   "outputs": [],
   "source": [
    "<font color = \"Red\">**Identifiers**<font/>"
   ]
  },
  {
   "cell_type": "code",
   "execution_count": null,
   "id": "4eb85faf",
   "metadata": {},
   "outputs": [],
   "source": [
    "<font color = \"Red\">**Identifiers**<font/>"
   ]
  },
  {
   "cell_type": "code",
   "execution_count": null,
   "id": "ffa20d4d",
   "metadata": {},
   "outputs": [],
   "source": [
    "<font color = \"Red\">**Identifiers**<font/>"
   ]
  },
  {
   "cell_type": "markdown",
   "id": "f4dadaa5",
   "metadata": {},
   "source": [
    "<font color = 'red'>**Program : Write a program to find single digit sum for dynamically given 10 digit number.**<font/>"
   ]
  },
  {
   "cell_type": "code",
   "execution_count": 29,
   "id": "db21ef87",
   "metadata": {},
   "outputs": [
    {
     "name": "stdout",
     "output_type": "stream",
     "text": [
      "The length of the number which is given as input is  : 0\n",
      "please enter 10 digits number\n"
     ]
    }
   ],
   "source": [
    "ten_digit_input = \"\"\n",
    "\n",
    "while len(ten_digit_input)==10:\n",
    "    ten_digit_input = input(\"Please enter 10 Digits from 1 to 9 in your interest : \")\n",
    "    print(\"proper format\")\n",
    "print(\"The length of the number which is given as input is  : {}\".format(len(ten_digit_input)))\n",
    "print(\"please enter 10 digits number\")\n",
    "    "
   ]
  },
  {
   "cell_type": "code",
   "execution_count": 46,
   "id": "7127be89",
   "metadata": {},
   "outputs": [
    {
     "name": "stdout",
     "output_type": "stream",
     "text": [
      "Please enter 10 Digits from 1 to 9 in your interest : 1234567891\n",
      "Exact format given in input\n",
      "46\n"
     ]
    }
   ],
   "source": [
    "ten_digit_input = input(\"Please enter 10 Digits from 1 to 9 in your interest : \")\n",
    "# ten_digits=[]\n",
    "if len(ten_digit_input)==10:\n",
    "#(len(ten_digit_input)>10 and len(ten_digit_input)<10) :\n",
    "    print(\"Exact format given in input\")\n",
    "    ten_digits=[]\n",
    "    ten_digit_sum = 0\n",
    "    for i in ten_digit_input:\n",
    "        ten_digits.append(int(i))\n",
    "        ten_digit_sum=ten_digit_sum+int(i)\n",
    "    print(ten_digit_sum)\n",
    "else:\n",
    "    print(\"Please enter only 10 digit number.\")\n"
   ]
  },
  {
   "cell_type": "code",
   "execution_count": 23,
   "id": "6cc19e29",
   "metadata": {},
   "outputs": [
    {
     "data": {
      "text/plain": [
       "12"
      ]
     },
     "execution_count": 23,
     "metadata": {},
     "output_type": "execute_result"
    }
   ],
   "source": [
    "len(ten_digit_input)"
   ]
  },
  {
   "cell_type": "code",
   "execution_count": null,
   "id": "977379cf",
   "metadata": {},
   "outputs": [],
   "source": []
  },
  {
   "cell_type": "code",
   "execution_count": null,
   "id": "8e9f4d4f",
   "metadata": {},
   "outputs": [],
   "source": []
  },
  {
   "cell_type": "markdown",
   "id": "0b939e5b",
   "metadata": {},
   "source": [
    "<font color = 'red'>**Program : Write a program to find factors for a dynamic number, from 2 to 9 which are perfectly divisible.**<font/>"
   ]
  },
  {
   "cell_type": "code",
   "execution_count": null,
   "id": "6fef8631",
   "metadata": {},
   "outputs": [],
   "source": []
  },
  {
   "cell_type": "code",
   "execution_count": null,
   "id": "94114a40",
   "metadata": {},
   "outputs": [],
   "source": []
  },
  {
   "cell_type": "code",
   "execution_count": null,
   "id": "b6f2fe85",
   "metadata": {},
   "outputs": [],
   "source": []
  }
 ],
 "metadata": {
  "kernelspec": {
   "display_name": "Python 3 (ipykernel)",
   "language": "python",
   "name": "python3"
  },
  "language_info": {
   "codemirror_mode": {
    "name": "ipython",
    "version": 3
   },
   "file_extension": ".py",
   "mimetype": "text/x-python",
   "name": "python",
   "nbconvert_exporter": "python",
   "pygments_lexer": "ipython3",
   "version": "3.9.7"
  }
 },
 "nbformat": 4,
 "nbformat_minor": 5
}
