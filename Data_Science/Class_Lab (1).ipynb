{
 "cells": [
  {
   "cell_type": "markdown",
   "id": "8b055687",
   "metadata": {},
   "source": [
    "# 1."
   ]
  },
  {
   "cell_type": "code",
   "execution_count": null,
   "id": "af077eea",
   "metadata": {},
   "outputs": [],
   "source": [
    "Marks in each subject are there in list find out the percentage and status?\n",
    "marks = [12,88,56,98,77,89]\n",
    "6 subjets \n",
    "100\n",
    "35>= pass\n",
    "35< Fail"
   ]
  },
  {
   "cell_type": "code",
   "execution_count": 57,
   "id": "26753884",
   "metadata": {},
   "outputs": [],
   "source": [
    "def your_result(marks):\n",
    "    marks_sum=0\n",
    "    pass_sub=0\n",
    "    fail_sub=0\n",
    "    for mark in marks:\n",
    "        if mark>=35:\n",
    "            pass_sub+=1\n",
    "            marks_sum+=mark\n",
    "        else:\n",
    "            fail_sub+=1\n",
    "\n",
    "    if pass_sub==6:\n",
    "        \n",
    "        return(f\"You have passed in all subjects, your percentage is : {round((marks_sum/6),2)} %.  Congratulations!!!\")\n",
    "    else:\n",
    "        return(f\"You have failed in {fail_sub} subjects. Sorry :(\")"
   ]
  },
  {
   "cell_type": "code",
   "execution_count": 58,
   "id": "53d0d532",
   "metadata": {},
   "outputs": [
    {
     "data": {
      "text/plain": [
       "'You have failed in 1 subjects. Sorry :('"
      ]
     },
     "execution_count": 58,
     "metadata": {},
     "output_type": "execute_result"
    }
   ],
   "source": [
    "marks = [34,88,56,98,77,89]\n",
    "your_result(marks)"
   ]
  },
  {
   "cell_type": "markdown",
   "id": "7152a875",
   "metadata": {},
   "source": [
    "# 2."
   ]
  },
  {
   "cell_type": "code",
   "execution_count": null,
   "id": "487db50c",
   "metadata": {},
   "outputs": [],
   "source": [
    "#       1 percent on the first $50,000\n",
    "#       2 percent on the amount over $50,000 up to $75,000\n",
    "#       3 percent on the amount over $75,000 up to $100,000\n",
    "#       4 percent on the amount over $100,000 up to $250,000\n",
    "#       5 percent on the amount over $250,000 up to $500,000\n",
    "#       6 percent on the amount over $500,000"
   ]
  },
  {
   "cell_type": "code",
   "execution_count": null,
   "id": "c9c282ef",
   "metadata": {},
   "outputs": [],
   "source": [
    "# 600000\n",
    "\n",
    "#50000 - 500  - 50000\n",
    "#25000 - 500  - 75000\n",
    "#25000 - 750  - 100000\n",
    "#150000 - 6000 - 250000\n",
    "#250000 - 12500 - 500000\n",
    "#100000 -  6000 - 600000\n",
    "-------------------------\n",
    "         26250\n",
    "-------------------------"
   ]
  },
  {
   "cell_type": "code",
   "execution_count": null,
   "id": "6440d0c3",
   "metadata": {},
   "outputs": [],
   "source": [
    "450000 = ?"
   ]
  },
  {
   "cell_type": "code",
   "execution_count": 17,
   "id": "f2e89d3e",
   "metadata": {},
   "outputs": [],
   "source": [
    "def tax_amount(amount):\n",
    "    tax=0\n",
    "    if amount>=50000:\n",
    "        tax+=500\n",
    "        amount-=50000\n",
    "    else:\n",
    "        tax+=(amount*0.01)\n",
    "        return tax\n",
    "    if amount>=25000:\n",
    "        tax+=500\n",
    "        amount-=25000\n",
    "    else:\n",
    "        tax+=(amount*0.02)\n",
    "        return tax\n",
    "    if amount>=25000:\n",
    "        tax+=750\n",
    "        amount-=25000\n",
    "    else:\n",
    "        tax+=(amount*0.03)\n",
    "        return tax\n",
    "    if amount>=150000:\n",
    "        tax+=6000\n",
    "        amount-=150000\n",
    "    else:\n",
    "        tax+=(amount*0.04)\n",
    "        return tax\n",
    "    if amount>=250000:\n",
    "        tax+=12000\n",
    "        amount-=250000\n",
    "    else:\n",
    "        tax+=(amount*0.05)\n",
    "        return tax\n",
    "    if amount>=0:\n",
    "        tax+=(amount*0.06)\n",
    "        return tax\n",
    "    "
   ]
  },
  {
   "cell_type": "code",
   "execution_count": 59,
   "id": "ac0a7eb6",
   "metadata": {},
   "outputs": [
    {
     "name": "stdout",
     "output_type": "stream",
     "text": [
      "Your tax amount is: Rs. 17750.0 /-\n"
     ]
    }
   ],
   "source": [
    "amount=450000\n",
    "print(\"Your tax amount is: Rs.\", tax_amount(amount),\"/-\")"
   ]
  },
  {
   "cell_type": "markdown",
   "id": "2eb04ab7",
   "metadata": {},
   "source": [
    "# 3."
   ]
  },
  {
   "cell_type": "code",
   "execution_count": null,
   "id": "0a20a81b",
   "metadata": {},
   "outputs": [],
   "source": [
    "98 cents a change:\n",
    "    \n",
    "    1 - penny\n",
    "    5 - nikkle\n",
    "    10 -dime\n",
    "    25 - quarter\n",
    "    \n",
    "    (3,2, 0,3)"
   ]
  },
  {
   "cell_type": "markdown",
   "id": "424badcb",
   "metadata": {},
   "source": [
    "# 4. "
   ]
  },
  {
   "cell_type": "code",
   "execution_count": null,
   "id": "aa1cf1d6",
   "metadata": {},
   "outputs": [],
   "source": [
    "# How to identify a single digit sum for mobile number which will allow 10 digit number which is not starting with zero.\n",
    "\n",
    "129 = 1 +2+9 = 12 = 1+2 = 3"
   ]
  },
  {
   "cell_type": "code",
   "execution_count": 25,
   "id": "4b84bf74",
   "metadata": {},
   "outputs": [],
   "source": [
    "def get_single_num(input_num):\n",
    "    added_num=0\n",
    "    while input_num>0:\n",
    "        last_digit=input_num%10    \n",
    "        added_num+=last_digit\n",
    "        input_num//=10\n",
    "    added_num_input=added_num\n",
    "    single_digit=0\n",
    "    while added_num_input>0:\n",
    "        last_digit=added_num_input%10\n",
    "        single_digit+=last_digit\n",
    "        added_num_input//=10\n",
    "    return single_digit"
   ]
  },
  {
   "cell_type": "code",
   "execution_count": 26,
   "id": "4354f501",
   "metadata": {},
   "outputs": [
    {
     "name": "stdout",
     "output_type": "stream",
     "text": [
      "Single digit of your mobile number is : 6\n"
     ]
    }
   ],
   "source": [
    "input_num=8050809408\n",
    "print(\"Single digit of your mobile number is :\", get_single_num(input_num))"
   ]
  },
  {
   "cell_type": "markdown",
   "id": "5961a607",
   "metadata": {},
   "source": [
    "# 5. "
   ]
  },
  {
   "cell_type": "code",
   "execution_count": null,
   "id": "52465757",
   "metadata": {},
   "outputs": [],
   "source": [
    "# How to calculate luckky number from your name by giving numbers to your alphs bets from 1 to 26.(Single digit)\n",
    "\n",
    "bzc = 2 +26 +3 = 31 = 3 +1= 4"
   ]
  },
  {
   "cell_type": "code",
   "execution_count": 32,
   "id": "1a73cb77",
   "metadata": {},
   "outputs": [],
   "source": [
    "def get_lucky_num(word):\n",
    "    word_sum=0\n",
    "    for i in word.lower():\n",
    "        word_sum+=int(ord(i)-96)\n",
    "    single_digit=0\n",
    "    while word_sum>0:\n",
    "        last_digit=word_sum%10\n",
    "        single_digit+=last_digit\n",
    "        word_sum//=10\n",
    "    return single_digit"
   ]
  },
  {
   "cell_type": "code",
   "execution_count": 60,
   "id": "32be0603",
   "metadata": {},
   "outputs": [
    {
     "name": "stdout",
     "output_type": "stream",
     "text": [
      "Your lucky number is: 4\n"
     ]
    }
   ],
   "source": [
    "word=\"bzc\"\n",
    "print(\"Your lucky number is:\",get_lucky_num(word))"
   ]
  },
  {
   "cell_type": "markdown",
   "id": "f89855ad",
   "metadata": {},
   "source": [
    "# 6."
   ]
  },
  {
   "cell_type": "code",
   "execution_count": null,
   "id": "32f9f468",
   "metadata": {},
   "outputs": [],
   "source": [
    "# how you identify factors of a number  which is dynamicalli provided number?\n",
    "\n",
    "10 : factors : 1,2,5,"
   ]
  },
  {
   "cell_type": "code",
   "execution_count": 65,
   "id": "273fc2a8",
   "metadata": {},
   "outputs": [],
   "source": [
    "def get_factors(input_num):\n",
    "    factors=[]\n",
    "    for num in range(1,input_num):\n",
    "        if input_num%num==0:\n",
    "            factors.append(num)\n",
    "    return factors"
   ]
  },
  {
   "cell_type": "code",
   "execution_count": 66,
   "id": "2fcd1cd8",
   "metadata": {},
   "outputs": [
    {
     "name": "stdout",
     "output_type": "stream",
     "text": [
      "Factors for the given number is: [1, 2, 5]\n"
     ]
    }
   ],
   "source": [
    "print(\"Factors for the given number is:\",get_factors(10))"
   ]
  },
  {
   "cell_type": "code",
   "execution_count": null,
   "id": "7f86d864",
   "metadata": {},
   "outputs": [],
   "source": []
  }
 ],
 "metadata": {
  "kernelspec": {
   "display_name": "Python 3 (ipykernel)",
   "language": "python",
   "name": "python3"
  },
  "language_info": {
   "codemirror_mode": {
    "name": "ipython",
    "version": 3
   },
   "file_extension": ".py",
   "mimetype": "text/x-python",
   "name": "python",
   "nbconvert_exporter": "python",
   "pygments_lexer": "ipython3",
   "version": "3.9.12"
  }
 },
 "nbformat": 4,
 "nbformat_minor": 5
}
