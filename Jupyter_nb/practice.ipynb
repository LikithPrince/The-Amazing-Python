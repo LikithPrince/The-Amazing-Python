{
 "cells": [
  {
   "cell_type": "code",
   "execution_count": 87,
   "metadata": {},
   "outputs": [
    {
     "data": {
      "text/plain": [
       "[{65: 0}, {67: 1}, {90: 0}, {97: 1}, {99: 0}, {100: 3}]"
      ]
     },
     "execution_count": 87,
     "metadata": {},
     "output_type": "execute_result"
    }
   ],
   "source": [
    "li=('A','C','Z','a','c','d')\n",
    "out=[]\n",
    "res=[0,1]\n",
    "for i in range(len(li)):\n",
    "    num=i*res[i]\n",
    "    \n",
    "    out.append({ord(li[i]):res[i]})\n",
    "    res.append(num)\n",
    "out"
   ]
  },
  {
   "cell_type": "code",
   "execution_count": null,
   "metadata": {},
   "outputs": [],
   "source": []
  },
  {
   "cell_type": "code",
   "execution_count": null,
   "metadata": {},
   "outputs": [],
   "source": [
    "\n"
   ]
  }
 ],
 "metadata": {
  "kernelspec": {
   "display_name": "Python 3.10.4 64-bit",
   "language": "python",
   "name": "python3"
  },
  "language_info": {
   "codemirror_mode": {
    "name": "ipython",
    "version": 3
   },
   "file_extension": ".py",
   "mimetype": "text/x-python",
   "name": "python",
   "nbconvert_exporter": "python",
   "pygments_lexer": "ipython3",
   "version": "3.10.4"
  },
  "orig_nbformat": 4,
  "vscode": {
   "interpreter": {
    "hash": "7580ef4aeea7ba06b4ed47be8a936738d61fa9ff86771851af539ace352c2434"
   }
  }
 },
 "nbformat": 4,
 "nbformat_minor": 2
}
