{
 "cells": [
  {
   "cell_type": "code",
   "execution_count": 19,
   "metadata": {},
   "outputs": [
    {
     "name": "stdout",
     "output_type": "stream",
     "text": [
      "2022-09-13 16:56:29.217378\n",
      "Time taken: 0.0003041s\n"
     ]
    }
   ],
   "source": [
    "from datetime import datetime\n",
    "import time\n",
    "\n",
    "t1=time.perf_counter()\n",
    "print(datetime.now())\n",
    "t2=time.perf_counter()\n",
    "print(f\"Time taken: {t2-t1:.7f}s\")\n"
   ]
  }
 ],
 "metadata": {
  "interpreter": {
   "hash": "7580ef4aeea7ba06b4ed47be8a936738d61fa9ff86771851af539ace352c2434"
  },
  "kernelspec": {
   "display_name": "Python 3.10.4 64-bit",
   "language": "python",
   "name": "python3"
  },
  "language_info": {
   "codemirror_mode": {
    "name": "ipython",
    "version": 3
   },
   "file_extension": ".py",
   "mimetype": "text/x-python",
   "name": "python",
   "nbconvert_exporter": "python",
   "pygments_lexer": "ipython3",
   "version": "3.10.4"
  },
  "orig_nbformat": 4
 },
 "nbformat": 4,
 "nbformat_minor": 2
}
