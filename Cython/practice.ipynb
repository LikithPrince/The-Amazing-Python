{
 "cells": [
  {
   "cell_type": "code",
   "execution_count": 33,
   "metadata": {},
   "outputs": [
    {
     "name": "stdout",
     "output_type": "stream",
     "text": [
      "{'id': 1, 'name': 'a'}\n"
     ]
    }
   ],
   "source": [
    "a=[\n",
    "    {\"id\":1,\"name\":\"a\"},\n",
    "    {\"id\":2,\"name\":\"b\"},\n",
    "    {\"id\":1,\"name\":\"a\"},\n",
    "    {\"id\":3,\"name\":\"r\"},\n",
    "    {\"id\":4,\"name\":\"c\"}\n",
    "]\n",
    "\n",
    "for i in range(len(a)):\n",
    "    for k in range(i+1,len(a)-i):\n",
    "        if a[i][\"id\"]==a[k][\"id\"]:\n",
    "            print(a[i])\n"
   ]
  },
  {
   "cell_type": "code",
   "execution_count": null,
   "metadata": {},
   "outputs": [],
   "source": []
  }
 ],
 "metadata": {
  "kernelspec": {
   "display_name": "Python 3.10.4 64-bit",
   "language": "python",
   "name": "python3"
  },
  "language_info": {
   "codemirror_mode": {
    "name": "ipython",
    "version": 3
   },
   "file_extension": ".py",
   "mimetype": "text/x-python",
   "name": "python",
   "nbconvert_exporter": "python",
   "pygments_lexer": "ipython3",
   "version": "3.10.4"
  },
  "orig_nbformat": 4,
  "vscode": {
   "interpreter": {
    "hash": "7580ef4aeea7ba06b4ed47be8a936738d61fa9ff86771851af539ace352c2434"
   }
  }
 },
 "nbformat": 4,
 "nbformat_minor": 2
}
