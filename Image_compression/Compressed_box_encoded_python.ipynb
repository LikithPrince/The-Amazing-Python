{
 "cells": [
  {
   "cell_type": "code",
   "execution_count": 2,
   "metadata": {},
   "outputs": [],
   "source": [
    "import PIL\n",
    "from PIL import Image\n",
    "\n"
   ]
  },
  {
   "cell_type": "code",
   "execution_count": 32,
   "metadata": {},
   "outputs": [],
   "source": [
    "direc = 'C:/Users/LikithP/OneDrive - Ennoventure Inc/Documents/Projects/CurvModel-with_image_reg/ACRIPTEGA/iPhone/IMG_8243.JPG'\n",
    "\n",
    "img = Image.open(direc).rotate(270, expand=True)\n",
    "img = img.resize((1560,2016), Image.ANTIALIAS)\n",
    "img.save(\"C:/Users/LikithP/OneDrive - Ennoventure Inc/Documents/Projects/CurvModel-with_image_reg/images/image.jpg\", quality=95)\n"
   ]
  },
  {
   "cell_type": "code",
   "execution_count": 3,
   "metadata": {},
   "outputs": [
    {
     "ename": "SyntaxError",
     "evalue": "(unicode error) 'unicodeescape' codec can't decode bytes in position 2-3: truncated \\UXXXXXXXX escape (1884371335.py, line 1)",
     "output_type": "error",
     "traceback": [
      "\u001b[1;36m  Input \u001b[1;32mIn [3]\u001b[1;36m\u001b[0m\n\u001b[1;33m    direc = \"C:\\Users\\LikithP\\OneDrive - Ennoventure Inc\\Documents\\Likith_python\\Projects\\Image compression\\LotusHerbals_FMCG_1_unit_22062022_z6o_b_e1_20220625_064848_300dpi.png\"\u001b[0m\n\u001b[1;37m                                                                                                                                                                                  ^\u001b[0m\n\u001b[1;31mSyntaxError\u001b[0m\u001b[1;31m:\u001b[0m (unicode error) 'unicodeescape' codec can't decode bytes in position 2-3: truncated \\UXXXXXXXX escape\n"
     ]
    }
   ],
   "source": [
    "direc = \"C:\\Users\\LikithP\\OneDrive - Ennoventure Inc\\Documents\\Likith_python\\Projects\\Image compression\\LotusHerbals_FMCG_1_unit_22062022_z6o_b_e1_20220625_064848_300dpi.png\"\n",
    "\n",
    "img = Image.open(direc).rotate(270, expand=True)\n",
    "w,h=img.size\n",
    "img = img.resize((int(w*0.4),int(h*0.4)), Image.ANTIALIAS)\n",
    "\n",
    "img.save(\"C:\\Users\\LikithP\\OneDrive - Ennoventure Inc\\Documents\\Likith_python\\Projects\\Image compression\\LotusHerbals_FMCG_1_unit_22062022_z6o_b_e1_20220625_064848_300dpi1.png\")"
   ]
  }
 ],
 "metadata": {
  "kernelspec": {
   "display_name": "Python 3.10.4 64-bit",
   "language": "python",
   "name": "python3"
  },
  "language_info": {
   "codemirror_mode": {
    "name": "ipython",
    "version": 3
   },
   "file_extension": ".py",
   "mimetype": "text/x-python",
   "name": "python",
   "nbconvert_exporter": "python",
   "pygments_lexer": "ipython3",
   "version": "3.10.4"
  },
  "orig_nbformat": 4,
  "vscode": {
   "interpreter": {
    "hash": "7580ef4aeea7ba06b4ed47be8a936738d61fa9ff86771851af539ace352c2434"
   }
  }
 },
 "nbformat": 4,
 "nbformat_minor": 2
}
