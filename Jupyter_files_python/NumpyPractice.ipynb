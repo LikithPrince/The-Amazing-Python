{
 "cells": [
  {
   "cell_type": "code",
   "execution_count": 1,
   "metadata": {},
   "outputs": [],
   "source": [
    "import cv2\n",
    "import numpy as np"
   ]
  },
  {
   "cell_type": "code",
   "execution_count": 2,
   "metadata": {},
   "outputs": [],
   "source": [
    "# giving a path for Image\n",
    "path='C:/Users/LikithP/OneDrive - Ennoventure Inc/Documents/Projects/Image data process/'\n",
    "imageName='frnt.png' # Image name\n",
    "imagepath=(path+imageName) # Calling function Definition"
   ]
  },
  {
   "cell_type": "code",
   "execution_count": 3,
   "metadata": {},
   "outputs": [
    {
     "name": "stdout",
     "output_type": "stream",
     "text": [
      "(709, 1200, 3)\n",
      "(709, 1200, 3)\n",
      "The size is Different\n"
     ]
    }
   ],
   "source": [
    "img = cv2.imread(imagepath)\n",
    "np.save('numpyfile', img)\n",
    "numpdata=np.load('numpyfile.npy')\n",
    "print(img.shape)\n",
    "print(numpdata.shape)\n",
    "print(np.where(( img is numpdata),\"The Size is same\",\"The size is Different\"))"
   ]
  },
  {
   "cell_type": "code",
   "execution_count": 21,
   "metadata": {},
   "outputs": [
    {
     "name": "stdout",
     "output_type": "stream",
     "text": [
      "2552400\n",
      "2552400\n",
      "2552400\n"
     ]
    }
   ],
   "source": [
    "print(img.size)\n",
    "print(numpdata.size)\n",
    "print(709*1200*3)"
   ]
  },
  {
   "cell_type": "code",
   "execution_count": 25,
   "metadata": {},
   "outputs": [
    {
     "name": "stdout",
     "output_type": "stream",
     "text": [
      "(array([  0,   0,   0, ..., 708, 708, 708], dtype=int64), array([   0,    0,    0, ..., 1199, 1199, 1199], dtype=int64), array([0, 1, 2, ..., 0, 1, 2], dtype=int64))\n"
     ]
    }
   ],
   "source": [
    "print(np.where(( img == numpdata)))"
   ]
  }
 ],
 "metadata": {
  "interpreter": {
   "hash": "de35e171c9a618cd1850239771f82a072928b5dc4f6501ee1a48169ef4427e55"
  },
  "kernelspec": {
   "display_name": "Python 3.10.2 64-bit",
   "language": "python",
   "name": "python3"
  },
  "language_info": {
   "codemirror_mode": {
    "name": "ipython",
    "version": 3
   },
   "file_extension": ".py",
   "mimetype": "text/x-python",
   "name": "python",
   "nbconvert_exporter": "python",
   "pygments_lexer": "ipython3",
   "version": "3.10.2"
  },
  "orig_nbformat": 4
 },
 "nbformat": 4,
 "nbformat_minor": 2
}
